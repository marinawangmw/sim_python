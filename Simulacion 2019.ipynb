{
 "cells": [
  {
   "cell_type": "code",
   "execution_count": 1,
   "metadata": {},
   "outputs": [],
   "source": [
    "# import the SimPy package \n",
    "#from simpy import initialize\n",
    "#from SimPy.Simulation import *\n",
    "import simpy\n",
    "import random\n",
    "import collections"
   ]
  },
  {
   "cell_type": "code",
   "execution_count": null,
   "metadata": {
    "scrolled": true
   },
   "outputs": [],
   "source": [
    "    "
   ]
  },
  {
   "cell_type": "code",
   "execution_count": 50,
   "metadata": {},
   "outputs": [],
   "source": [
    "def distribucion_llegada(env,nClientes,puestos,cont):\n",
    "    for i in range(nClientes):\n",
    "        r = random.random()\n",
    "        c = Customer(name = \"clienteE%02d\"%i)\n",
    "        if r <= cont[\"PE\"]:\n",
    "            ia = random.uniform(cont[\"min\"],cont[\"max\"])\n",
    "            yield env.timeout(ia)\n",
    "            yield env.process(c.llamada_emergencia(env,puestos,cont))\n",
    "        else: \n",
    "            ia = random.uniform(cont[\"min\"],cont[\"max\"])\n",
    "            yield env.timeout(ia)\n",
    "            #print(puestos)\n",
    "            yield env.process(c.llamada_comercial(env,puestos,cont))"
   ]
  },
  {
   "cell_type": "code",
   "execution_count": 48,
   "metadata": {},
   "outputs": [],
   "source": [
    "class Customer():\n",
    "    \"\"\"Evento llegadas/llamadas de los clientes\"\"\"\n",
    "    def __init__(self,name):\n",
    "        self.name = name\n",
    "        \n",
    "    def llamada_emergencia(self,env,puestos,cont):\n",
    "        arrive = env.now\n",
    "        # Pido uso de los dos puestos, y me dan el primero que se libere\n",
    "        comercial = puestos[0].request(priority=0)\n",
    "        emergencia = puestos[1].request(priority=0)\n",
    "        atendido = yield comercial | emergencia\n",
    "        \n",
    "        # Me atendieron por puestos comerciales?\n",
    "        if comercial in atendido:\n",
    "            cont[\"multitasking\"]+=1\n",
    "            wait = env.now-arrive #Tiempo de espera\n",
    "            print(env.now,self.name,\": EMERGENCIA - Me atendieron en un puesto comercial despues de esperar \",wait)\n",
    "            ta= abs(random.normalvariate(cont[\"mu\"],cont[\"sigma\"]))\n",
    "            yield env.timeout(ta)\n",
    "            \n",
    "        else:\n",
    "            wait = env.now-arrive #Tiempo de espera\n",
    "            #wM.observe(wait) #Monitor de espera (sumatoria de espera en cola)\n",
    "            #print \"%7.4f %s: EMERGENCIA - Me atendieron en el puesto de emergencia despues de esperar %6.3f\"%(env.now,self.name,wait)\n",
    "            print(env.now,self.name,\": EMERGENCIA - Me atendieron en un puesto de emergencia despues de esperar \",wait)\n",
    "            #print(env.now,\": EMERGENCIA - Me atendieron en un puesto de emergencia despues de esperar \",wait)\n",
    "            ta= abs(random.normalvariate(cont[\"mu\"],cont[\"sigma\"]))\n",
    "            yield env.timeout(ta)\n",
    "            \n",
    "            \n",
    "    def llamada_comercial(self,env,puestos,cont):\n",
    "        arrive = env.now\n",
    "        #print\n",
    "        \n",
    "        # Pido uso de los dos puestos, y me dan el primero que se libere\n",
    "        with puestos[0].request(priority=1) as request:\n",
    "            yield request\n",
    "            \n",
    "            wait = env.now-arrive #Tiempo de espera\n",
    "            print(env.now,self.name,\": COMERCIAL - Me atendieron despues de esperar \",wait)\n",
    "            ta= abs(random.normalvariate(cont[\"mu\"],cont[\"sigma\"]))\n",
    "            yield env.timeout(ta)\n",
    "        "
   ]
  },
  {
   "cell_type": "markdown",
   "metadata": {},
   "source": [
    "Condiciones Iniciales"
   ]
  },
  {
   "cell_type": "code",
   "execution_count": 4,
   "metadata": {},
   "outputs": [
    {
     "name": "stdout",
     "output_type": "stream",
     "text": [
      "Ingrese cantidad de puestos comerciales\n",
      "12\n",
      "Ingrese cantidad de puestos de emergencia\n",
      "11\n"
     ]
    }
   ],
   "source": [
    "# Experimental data\n",
    "maxNumber = 100 #clientes\n",
    "maxTime = 14400 #segundos\n",
    "#random.seed(RANDOM_SEED)\n",
    "PE = 0.12 #Porcentaje Emergencia\n",
    "PC = 0.88 #Porcentaje Comercial\n",
    "\n",
    "# TA - distribucion normal\n",
    "mu = 267.64 \n",
    "sigma = 297.40\n",
    "\n",
    "# IA - uniforme\n",
    "IAMin = 1\n",
    "IAMax = 60\n",
    "\n",
    "# Contadores\n",
    "ci = {\"multitasking\":0,\n",
    "     \"mu\":mu,\n",
    "     \"sigma\":sigma,\n",
    "     \"min\":IAMin,\n",
    "     \"max\":IAMax,\n",
    "     \"PE\":PE,\n",
    "     \"PC\":PC}\n",
    "\n",
    "# Puestos de atencion - variables de control\n",
    "print('Ingrese cantidad de puestos comerciales')\n",
    "cantCom = int(input())\n",
    "print('Ingrese cantidad de puestos de emergencia')\n",
    "cantEmer = int(input())"
   ]
  },
  {
   "cell_type": "markdown",
   "metadata": {},
   "source": [
    "Modelo de Simulacion"
   ]
  },
  {
   "cell_type": "code",
   "execution_count": 51,
   "metadata": {},
   "outputs": [
    {
     "name": "stdout",
     "output_type": "stream",
     "text": [
      "8.11017984175319 clienteE00 : COMERCIAL - Me atendieron despues de esperar  0.0\n",
      "628.6892833510326 clienteE01 : COMERCIAL - Me atendieron despues de esperar  0.0\n",
      "735.2163004038663 clienteE02 : EMERGENCIA - Me atendieron en un puesto comercial despues de esperar  0.0\n",
      "1505.1843952317631 clienteE03 : COMERCIAL - Me atendieron despues de esperar  0.0\n",
      "1965.9569438343158 clienteE04 : COMERCIAL - Me atendieron despues de esperar  0.0\n",
      "2639.365058472099 clienteE05 : COMERCIAL - Me atendieron despues de esperar  0.0\n",
      "3218.2253988363937 clienteE06 : COMERCIAL - Me atendieron despues de esperar  0.0\n",
      "3276.2327204371263 clienteE07 : COMERCIAL - Me atendieron despues de esperar  0.0\n",
      "3544.208935087059 clienteE08 : COMERCIAL - Me atendieron despues de esperar  0.0\n",
      "3628.963654841875 clienteE09 : COMERCIAL - Me atendieron despues de esperar  0.0\n",
      "3913.87463143638 clienteE10 : COMERCIAL - Me atendieron despues de esperar  0.0\n",
      "4651.716796177811 clienteE11 : COMERCIAL - Me atendieron despues de esperar  0.0\n",
      "5188.48731061622 clienteE12 : COMERCIAL - Me atendieron despues de esperar  0.0\n",
      "5477.459233514969 clienteE13 : COMERCIAL - Me atendieron despues de esperar  0.0\n",
      "6022.902408977883 clienteE14 : COMERCIAL - Me atendieron despues de esperar  0.0\n",
      "6484.372751190868 clienteE15 : COMERCIAL - Me atendieron despues de esperar  0.0\n",
      "7180.620223880533 clienteE16 : COMERCIAL - Me atendieron despues de esperar  0.0\n",
      "7706.41926689263 clienteE17 : COMERCIAL - Me atendieron despues de esperar  0.0\n",
      "8174.682743306061 clienteE18 : COMERCIAL - Me atendieron despues de esperar  0.0\n",
      "8482.424054354107 clienteE19 : COMERCIAL - Me atendieron despues de esperar  0.0\n",
      "8669.802471422561 clienteE20 : COMERCIAL - Me atendieron despues de esperar  0.0\n",
      "8856.532079894903 clienteE21 : COMERCIAL - Me atendieron despues de esperar  0.0\n",
      "9084.196176053614 clienteE22 : COMERCIAL - Me atendieron despues de esperar  0.0\n",
      "9291.17586204213 clienteE23 : COMERCIAL - Me atendieron despues de esperar  0.0\n",
      "9956.542353294884 clienteE24 : COMERCIAL - Me atendieron despues de esperar  0.0\n",
      "10339.805437717529 clienteE25 : COMERCIAL - Me atendieron despues de esperar  0.0\n",
      "10845.963171229596 clienteE26 : COMERCIAL - Me atendieron despues de esperar  0.0\n",
      "11579.89313907021 clienteE27 : COMERCIAL - Me atendieron despues de esperar  0.0\n",
      "11651.192136343412 clienteE28 : COMERCIAL - Me atendieron despues de esperar  0.0\n",
      "11901.643818769142 clienteE29 : COMERCIAL - Me atendieron despues de esperar  0.0\n",
      "12660.772351474889 clienteE30 : COMERCIAL - Me atendieron despues de esperar  0.0\n",
      "12818.354126177655 clienteE31 : EMERGENCIA - Me atendieron en un puesto comercial despues de esperar  0.0\n",
      "13141.560055485297 clienteE32 : COMERCIAL - Me atendieron despues de esperar  0.0\n",
      "13657.95182264092 clienteE33 : COMERCIAL - Me atendieron despues de esperar  0.0\n",
      "13882.536417475261 clienteE34 : COMERCIAL - Me atendieron despues de esperar  0.0\n",
      "14028.378301216888 clienteE35 : COMERCIAL - Me atendieron despues de esperar  0.0\n"
     ]
    }
   ],
   "source": [
    "env = simpy.Environment()\n",
    "puestos = [simpy.PriorityResource(env,capacity=cantCom),\n",
    "           simpy.PriorityResource(env,capacity=cantEmer)]\n",
    "           # menor el numero priority, mayor es la prioridad\n",
    "#wM = Monitor()\n",
    "#s = Source(env,maxNumber,puestos,ci)\n",
    "env.process(distribucion_llegada(env,maxNumber,puestos,ci))\n",
    "\n",
    "env.run(until=maxTime)"
   ]
  },
  {
   "cell_type": "markdown",
   "metadata": {},
   "source": [
    "Results"
   ]
  },
  {
   "cell_type": "code",
   "execution_count": null,
   "metadata": {},
   "outputs": [],
   "source": [
    "#result = wM.count(),wM.mean() #wM.mean --> promedio de espera en cola\n",
    "print \"Average wait for %3d completions was %5.3f minutes.\"% result\n",
    "\n",
    "# Porcentaje de espera menor a 40 segundos\n",
    "# Objetio: Mayor o igual al 90%\n",
    "\n",
    "print('Cantidad de puestos comerciales',cantCom)\n",
    "print('Cantidad de puestos de emergencia',cantEmer)"
   ]
  },
  {
   "cell_type": "code",
   "execution_count": 42,
   "metadata": {},
   "outputs": [
    {
     "name": "stdout",
     "output_type": "stream",
     "text": [
      "100\n"
     ]
    }
   ],
   "source": [
    "print(maxNumber)"
   ]
  },
  {
   "cell_type": "code",
   "execution_count": null,
   "metadata": {},
   "outputs": [],
   "source": []
  }
 ],
 "metadata": {
  "kernelspec": {
   "display_name": "Python 3",
   "language": "python",
   "name": "python3"
  },
  "language_info": {
   "codemirror_mode": {
    "name": "ipython",
    "version": 3
   },
   "file_extension": ".py",
   "mimetype": "text/x-python",
   "name": "python",
   "nbconvert_exporter": "python",
   "pygments_lexer": "ipython3",
   "version": "3.7.3"
  }
 },
 "nbformat": 4,
 "nbformat_minor": 2
}
