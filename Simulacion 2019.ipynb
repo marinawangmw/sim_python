{
 "cells": [
  {
   "cell_type": "code",
   "execution_count": 123,
   "metadata": {},
   "outputs": [],
   "source": [
    "# import the SimPy package \n",
    "#from simpy import initialize\n",
    "#from SimPy.Simulation import *\n",
    "import simpy\n",
    "import random\n",
    "import collections"
   ]
  },
  {
   "cell_type": "code",
   "execution_count": 152,
   "metadata": {
    "scrolled": true
   },
   "outputs": [],
   "source": [
    "class Source():\n",
    "    \"\"\"Evento llegada y distribuyo\"\"\"\n",
    "    def __init__(self,env,numClientes,puestos,cont): \n",
    "        self.env = env\n",
    "        self.num = numClientes\n",
    "        self.puestos = puestos\n",
    "        self.cont = cont\n",
    "    \n",
    "    def distribucion_llegada(self):\n",
    "        for i in range(self.num):\n",
    "            r = random.random()\n",
    "            c = Customer(name = \"clienteE%02d\"%i)\n",
    "            if r <= self.cont[\"PE\"]:\n",
    "                self.process = env.process(self.generar_emergencia(c))\n",
    "            else: \n",
    "                self.process = env.process(self.generar_comercial(c))\n",
    "\n",
    "    def generar_emergencia(self,c):\n",
    "        env.process(c.llamada_emergencia(self.env,puestos=self.puestos,cont=self.cont))\n",
    "        ia = random.uniform(self.cont[\"min\"],self.cont[\"max\"])\n",
    "        #print(\"IA:\", ia)\n",
    "        yield self.env.timeout(ia)\n",
    "    \n",
    "    def generar_comercial(self,c):\n",
    "        env.process(c.llamada_comercial(self.env,puestos=self.puestos,cont=self.cont))\n",
    "        ia = random.uniform(self.cont[\"min\"],self.cont[\"max\"])\n",
    "        #print(\"IA:\", ia)\n",
    "        yield self.env.timeout(ia)"
   ]
  },
  {
   "cell_type": "code",
   "execution_count": 138,
   "metadata": {},
   "outputs": [],
   "source": [
    "class Customer():\n",
    "    \"\"\"Evento llegadas/llamadas de los clientes\"\"\"\n",
    "    def __init__(self,name):\n",
    "        self.name = name\n",
    "        \n",
    "    def llamada_emergencia(env,puestos,cont):\n",
    "        arrive = env.now\n",
    "        # Pido uso de los dos puestos, y me dan el primero que se libere\n",
    "        comercial = puestos[0].request(priority=0)\n",
    "        emergencia = puestos[1].request(priority=0)\n",
    "        atendido = yield comercial | emergencia\n",
    "        \n",
    "        # Me atendieron por puestos comerciales?\n",
    "        if comercial in atendido:\n",
    "            cont[\"multitasking\"]+=1\n",
    "            wait = env.now-arrive #Tiempo de espera\n",
    "            #wM.observe(wait) #Monitor de espera (sumatoria de espera en cola)\n",
    "            #print \"%7.4f %s: EMERGENCIA - Me atendieron en el puesto de comerciales despues de esperar %6.3f\"%(env.now,self.name,wait)\n",
    "            print(env.now,self.name,\": EMERGENCIA - Me atendieron en un puesto comercial despues de esperar \",wait)\n",
    "            #print(env.now,\": EMERGENCIA - Me atendieron en un puesto comercial despues de esperar \",wait)\n",
    "            ta= abs(random.normalvariate(cont[\"mu\"],cont[\"sigma\"]))\n",
    "            yield env.timeout(ta)\n",
    "            \n",
    "            #yield hold,self,tib\n",
    "            #yield release,self,counters[choice]\n",
    "        else:\n",
    "            wait = env.now-arrive #Tiempo de espera\n",
    "            #wM.observe(wait) #Monitor de espera (sumatoria de espera en cola)\n",
    "            #print \"%7.4f %s: EMERGENCIA - Me atendieron en el puesto de emergencia despues de esperar %6.3f\"%(env.now,self.name,wait)\n",
    "            print(env.now,self.name,\": EMERGENCIA - Me atendieron en un puesto de emergencia despues de esperar \",wait)\n",
    "            #print(env.now,\": EMERGENCIA - Me atendieron en un puesto de emergencia despues de esperar \",wait)\n",
    "            ta= abs(random.normalvariate(cont[\"mu\"],cont[\"sigma\"]))\n",
    "            yield env.timeout(ta)\n",
    "            \n",
    "            \n",
    "    def llamada_comercial(env,puestos,cont):\n",
    "        arrive = env.now\n",
    "        # Pido uso de los dos puestos, y me dan el primero que se libere\n",
    "        yield puestos[0].request(priority=1)\n",
    "        wait = env.now-arrive #Tiempo de espera\n",
    "        #wM.observe(wait) #Monitor de espera (sumatoria de espera en cola)\n",
    "        print(env.now,self.name,\": COMERCIAL - Me atendieron despues de esperar \",wait)\n",
    "        #print(env.now,\": COMERCIAL - Me atendieron despues de esperar \",wait)\n",
    "        #print （\"%7.4f %s: COMERCIAL - Me atendieron despues de esperar %6.3f\",now(),self.name,wait)\n",
    "        ta= abs(random.normalvariate(cont[\"mu\"],cont[\"sigma\"]))\n",
    "        yield env.timeout(ta)\n",
    "            \n",
    "            #yield hold,self,tib\n",
    "            #yield release,self,counters[choice]\n",
    "        "
   ]
  },
  {
   "cell_type": "markdown",
   "metadata": {},
   "source": [
    "Condiciones Iniciales"
   ]
  },
  {
   "cell_type": "code",
   "execution_count": 75,
   "metadata": {},
   "outputs": [
    {
     "name": "stdout",
     "output_type": "stream",
     "text": [
      "Ingrese cantidad de puestos comerciales\n",
      "10\n",
      "Ingrese cantidad de puestos de emergencia\n",
      "12\n"
     ]
    }
   ],
   "source": [
    "# Experimental data\n",
    "maxNumber = 100 #clientes\n",
    "maxTime = 14400 #segundos\n",
    "#random.seed(RANDOM_SEED)\n",
    "PE = 0.12 #Porcentaje Emergencia\n",
    "PC = 0.88 #Porcentaje Comercial\n",
    "\n",
    "# TA - distribucion normal\n",
    "mu = 267.64 \n",
    "sigma = 297.40\n",
    "\n",
    "# IA - uniforme\n",
    "IAMin = 1\n",
    "IAMax = 60\n",
    "\n",
    "# Contadores\n",
    "ci = {\"multitasking\":0,\n",
    "     \"mu\":mu,\n",
    "     \"sigma\":sigma,\n",
    "     \"min\":IAMin,\n",
    "     \"max\":IAMax,\n",
    "     \"PE\":PE,\n",
    "     \"PC\":PC}\n",
    "\n",
    "# Puestos de atencion - variables de control\n",
    "print('Ingrese cantidad de puestos comerciales')\n",
    "cantCom = int(input())\n",
    "print('Ingrese cantidad de puestos de emergencia')\n",
    "cantEmer = int(input())"
   ]
  },
  {
   "cell_type": "markdown",
   "metadata": {},
   "source": [
    "Modelo de Simulacion"
   ]
  },
  {
   "cell_type": "code",
   "execution_count": 153,
   "metadata": {
    "scrolled": true
   },
   "outputs": [
    {
     "ename": "ValueError",
     "evalue": "None is not a generator.",
     "output_type": "error",
     "traceback": [
      "\u001b[1;31m---------------------------------------------------------------------------\u001b[0m",
      "\u001b[1;31mValueError\u001b[0m                                Traceback (most recent call last)",
      "\u001b[1;32m<ipython-input-153-72689e8f441e>\u001b[0m in \u001b[0;36m<module>\u001b[1;34m\u001b[0m\n\u001b[0;32m      5\u001b[0m \u001b[1;31m#wM = Monitor()\u001b[0m\u001b[1;33m\u001b[0m\u001b[1;33m\u001b[0m\u001b[1;33m\u001b[0m\u001b[0m\n\u001b[0;32m      6\u001b[0m \u001b[0ms\u001b[0m \u001b[1;33m=\u001b[0m \u001b[0mSource\u001b[0m\u001b[1;33m(\u001b[0m\u001b[0menv\u001b[0m\u001b[1;33m,\u001b[0m\u001b[0mmaxNumber\u001b[0m\u001b[1;33m,\u001b[0m\u001b[0mpuestos\u001b[0m\u001b[1;33m,\u001b[0m\u001b[0mci\u001b[0m\u001b[1;33m)\u001b[0m\u001b[1;33m\u001b[0m\u001b[1;33m\u001b[0m\u001b[0m\n\u001b[1;32m----> 7\u001b[1;33m \u001b[0menv\u001b[0m\u001b[1;33m.\u001b[0m\u001b[0mprocess\u001b[0m\u001b[1;33m(\u001b[0m\u001b[0ms\u001b[0m\u001b[1;33m.\u001b[0m\u001b[0mdistribucion_llegada\u001b[0m\u001b[1;33m(\u001b[0m\u001b[1;33m)\u001b[0m\u001b[1;33m)\u001b[0m\u001b[1;33m\u001b[0m\u001b[1;33m\u001b[0m\u001b[0m\n\u001b[0m\u001b[0;32m      8\u001b[0m \u001b[0menv\u001b[0m\u001b[1;33m.\u001b[0m\u001b[0mrun\u001b[0m\u001b[1;33m(\u001b[0m\u001b[0muntil\u001b[0m\u001b[1;33m=\u001b[0m\u001b[0mmaxTime\u001b[0m\u001b[1;33m)\u001b[0m\u001b[1;33m\u001b[0m\u001b[1;33m\u001b[0m\u001b[0m\n",
      "\u001b[1;32mC:\\ProgramData\\Anaconda3\\lib\\site-packages\\simpy\\events.py\u001b[0m in \u001b[0;36m__init__\u001b[1;34m(self, env, generator)\u001b[0m\n\u001b[0;32m    308\u001b[0m             \u001b[1;31m# ``next`` in Python 2).\u001b[0m\u001b[1;33m\u001b[0m\u001b[1;33m\u001b[0m\u001b[1;33m\u001b[0m\u001b[0m\n\u001b[0;32m    309\u001b[0m             \u001b[1;31m# Remove this workaround if it causes issues in production!\u001b[0m\u001b[1;33m\u001b[0m\u001b[1;33m\u001b[0m\u001b[1;33m\u001b[0m\u001b[0m\n\u001b[1;32m--> 310\u001b[1;33m             \u001b[1;32mraise\u001b[0m \u001b[0mValueError\u001b[0m\u001b[1;33m(\u001b[0m\u001b[1;34m'%s is not a generator.'\u001b[0m \u001b[1;33m%\u001b[0m \u001b[0mgenerator\u001b[0m\u001b[1;33m)\u001b[0m\u001b[1;33m\u001b[0m\u001b[1;33m\u001b[0m\u001b[0m\n\u001b[0m\u001b[0;32m    311\u001b[0m \u001b[1;33m\u001b[0m\u001b[0m\n\u001b[0;32m    312\u001b[0m         \u001b[1;31m# NOTE: The following initialization code is inlined from\u001b[0m\u001b[1;33m\u001b[0m\u001b[1;33m\u001b[0m\u001b[1;33m\u001b[0m\u001b[0m\n",
      "\u001b[1;31mValueError\u001b[0m: None is not a generator."
     ]
    }
   ],
   "source": [
    "\n",
    "\n",
    "env = simpy.Environment()\n",
    "puestos = [simpy.PriorityResource(env,capacity=cantCom),\n",
    "           simpy.PriorityResource(env,capacity=cantEmer)]\n",
    "            # menor el numero priority, mayor es la prioridad\n",
    "#wM = Monitor()\n",
    "s = Source(env,maxNumber,puestos,ci)\n",
    "env.process(s.distribucion_llegada())\n",
    "env.run(until=maxTime)"
   ]
  },
  {
   "cell_type": "markdown",
   "metadata": {},
   "source": [
    "Results"
   ]
  },
  {
   "cell_type": "code",
   "execution_count": null,
   "metadata": {},
   "outputs": [],
   "source": [
    "#result = wM.count(),wM.mean() #wM.mean --> promedio de espera en cola\n",
    "print \"Average wait for %3d completions was %5.3f minutes.\"% result\n",
    "\n",
    "# Porcentaje de espera menor a 40 segundos\n",
    "# Objetio: Mayor o igual al 90%\n",
    "\n",
    "print('Cantidad de puestos comerciales',cantCom)\n",
    "print('Cantidad de puestos de emergencia',cantEmer)"
   ]
  },
  {
   "cell_type": "code",
   "execution_count": 9,
   "metadata": {},
   "outputs": [
    {
     "name": "stdout",
     "output_type": "stream",
     "text": [
      "10\n"
     ]
    }
   ],
   "source": []
  },
  {
   "cell_type": "code",
   "execution_count": null,
   "metadata": {},
   "outputs": [],
   "source": []
  }
 ],
 "metadata": {
  "kernelspec": {
   "display_name": "Python 3",
   "language": "python",
   "name": "python3"
  },
  "language_info": {
   "codemirror_mode": {
    "name": "ipython",
    "version": 3
   },
   "file_extension": ".py",
   "mimetype": "text/x-python",
   "name": "python",
   "nbconvert_exporter": "python",
   "pygments_lexer": "ipython3",
   "version": "3.7.3"
  }
 },
 "nbformat": 4,
 "nbformat_minor": 2
}
