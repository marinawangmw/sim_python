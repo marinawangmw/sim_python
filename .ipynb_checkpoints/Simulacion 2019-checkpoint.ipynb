{
 "cells": [
  {
   "cell_type": "code",
   "execution_count": 1,
   "metadata": {},
   "outputs": [],
   "source": [
    "# import the SimPy package \n",
    "import simpy \n",
    "import random\n",
    "import collections"
   ]
  },
  {
   "cell_type": "code",
   "execution_count": 2,
   "metadata": {},
   "outputs": [],
   "source": [
    "class Source():\n",
    "    \"\"\"Genera llegadas de clientes de manera random\"\"\"\n",
    "    \n",
    "    def generar_emergencia(self,numClientes,puestos,cont):\n",
    "        for i in range(numClientes):\n",
    "            c = Customer(name = \"clienteE%02d\"%(i,))\n",
    "            activate(c,c.llamada_emergencia(puestos=puestos,cont=cont))\n",
    "            ia = random.uniform(cont[\"min\"],cont[\"max\"])\n",
    "            yield hold,self,ia\n",
    "        \n",
    "    def generar_comercial(self,numClientes,puestos,cont):\n",
    "        for i in range(numClientes):\n",
    "            c = Customer(name = \"clienteC%02d\"%(i,))\n",
    "            activate(c,c.llamada_comercial(puestos=puestos,cont=cont))\n",
    "            ia = random.uniform(cont[\"min\"],cont[\"max\"])\n",
    "            yield hold,self,ia"
   ]
  },
  {
   "cell_type": "code",
   "execution_count": 3,
   "metadata": {},
   "outputs": [],
   "source": [
    "class Customer():\n",
    "    \"\"\"Evento llegadas/llamadas de los clientes\"\"\"\n",
    "    \n",
    "    def llamada_emergencia(self,puestos,cont):\n",
    "        arrive = now()\n",
    "        # Pido uso de los dos puestos, y me dan el primero que se libere\n",
    "        comercial = puestos[0].request(priority=0)\n",
    "        emergencia = puestos[1].request(priority=0)\n",
    "        atendido = yield comercial | emergencia\n",
    "        \n",
    "        # Me atendieron por puestos comerciales?\n",
    "        if comercial in atendido:\n",
    "            cont[\"multitasking\"]+=1\n",
    "            wait = now()-arrive #Tiempo de espera\n",
    "            wM.observe(wait) #Monitor de espera (sumatoria de espera en cola)\n",
    "            print \"%7.4f %s: EMERGENCIA - Me atendieron en el puesto de comerciales despues de esperar %6.3f\"%(now(),self.name,wait)\n",
    "            ta= random.normalvariate(cont[\"mu\"],cont[\"sigma\"])\n",
    "            yield env.timeout(ta)\n",
    "            \n",
    "            #yield hold,self,tib\n",
    "            #yield release,self,counters[choice]\n",
    "        else:\n",
    "            wait = now()-arrive #Tiempo de espera\n",
    "            wM.observe(wait) #Monitor de espera (sumatoria de espera en cola)\n",
    "            print \"%7.4f %s: EMERGENCIA - Me atendieron en el puesto de emergencia despues de esperar %6.3f\"%(now(),self.name,wait)\n",
    "            ta= random.normalvariate(cont[\"mu\"],cont[\"sigma\"])\n",
    "            yield env.timeout(ta)\n",
    "            \n",
    "            \n",
    "    def llamada_comercial(self,puestos,cont):\n",
    "        arrive = now()\n",
    "        # Pido uso de los dos puestos, y me dan el primero que se libere\n",
    "        yield puestos[0].request(priority=1)\n",
    "        wait = now()-arrive #Tiempo de espera\n",
    "        wM.observe(wait) #Monitor de espera (sumatoria de espera en cola)\n",
    "        print \"%7.4f %s: COMERCIAL - Me atendieron despues de esperar %6.3f\"%(now(),self.name,wait)\n",
    "        ta= random.normalvariate(cont[\"mu\"],cont[\"sigma\"])\n",
    "        yield env.timeout(ta)\n",
    "            \n",
    "            #yield hold,self,tib\n",
    "            #yield release,self,counters[choice]\n",
    "        "
   ]
  },
  {
   "cell_type": "code",
   "execution_count": null,
   "metadata": {},
   "outputs": [],
   "source": [
    "\n",
    "    \n",
    "    "
   ]
  },
  {
   "cell_type": "markdown",
   "metadata": {},
   "source": [
    "Condiciones Iniciales"
   ]
  },
  {
   "cell_type": "code",
   "execution_count": null,
   "metadata": {},
   "outputs": [],
   "source": [
    "# Experimental data\n",
    "maxNumber = 100 #clientes\n",
    "maxtime = 14400 #segundos\n",
    "#random.seed(RANDOM_SEED)\n",
    "\n",
    "# TA - distribucion normal\n",
    "mu = 267.64 \n",
    "sigma = 297.40\n",
    "\n",
    "# IA - uniforme\n",
    "IAMin = 1\n",
    "IAMax = 60\n",
    "\n",
    "# Puestos de atencion - variables de control\n",
    "print('Ingrese cantidad de puestos comerciales')\n",
    "cantCom = input()\n",
    "print('Ingrese cantidad de puestos de emergencia')\n",
    "cantEmer = input()\n",
    "\n",
    "# Contadores\n",
    "ci = {\"multitasking\":0,\n",
    "     \"mu\"=mu,\n",
    "     \"sigma\"=sigma,\n",
    "     \"min\":IAMin,\n",
    "     \"max\":IAMax}\n"
   ]
  },
  {
   "cell_type": "markdown",
   "metadata": {},
   "source": [
    "Modelo de Simulacion"
   ]
  },
  {
   "cell_type": "code",
   "execution_count": null,
   "metadata": {},
   "outputs": [],
   "source": [
    "env = simpy.Environment()\n",
    "puestos = [PriorityResource(capacity=cantCom,name=\"Comerciales\"),\n",
    "           PriorityResource(capacity=cantEmer,name=\"Emergencias\")] \n",
    "            # menor el numero priority, mayor es la prioridad\n",
    "wM = Monitor()\n",
    "initialize()\n",
    "s = Source('Source')\n",
    "activate(s,s.generar_emergencia(numClientes=maxNumber, puestos=puestos,cont=ci),at=0.0)\n",
    "activate(s,s.generar_comercial(numClientes=maxNumber, puestos=puestos,cont=ci),at=0.0)\n",
    "simulate(until=maxTime)"
   ]
  },
  {
   "cell_type": "markdown",
   "metadata": {},
   "source": [
    "Results"
   ]
  },
  {
   "cell_type": "code",
   "execution_count": null,
   "metadata": {},
   "outputs": [],
   "source": [
    "result = wM.count(),wM.mean() #wM.mean --> promedio de espera en cola\n",
    "print \"Average wait for %3d completions was %5.3f minutes.\"% result\n",
    "\n",
    "# Porcentaje de espera menor a 40 segundos\n",
    "# Objetio: Mayor o igual al 90%\n",
    "\n",
    "print('Cantidad de puestos comerciales',cantCom)\n",
    "print('Cantidad de puestos de emergencia',cantEmer)"
   ]
  },
  {
   "cell_type": "code",
   "execution_count": null,
   "metadata": {},
   "outputs": [],
   "source": []
  }
 ],
 "metadata": {
  "kernelspec": {
   "display_name": "Python 3",
   "language": "python",
   "name": "python3"
  },
  "language_info": {
   "codemirror_mode": {
    "name": "ipython",
    "version": 3
   },
   "file_extension": ".py",
   "mimetype": "text/x-python",
   "name": "python",
   "nbconvert_exporter": "python",
   "pygments_lexer": "ipython3",
   "version": "3.7.3"
  }
 },
 "nbformat": 4,
 "nbformat_minor": 2
}
