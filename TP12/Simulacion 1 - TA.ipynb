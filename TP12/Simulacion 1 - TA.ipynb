{
 "cells": [
  {
   "cell_type": "code",
   "execution_count": 1,
   "metadata": {},
   "outputs": [],
   "source": [
    "import pandas as pd\n",
    "import numpy as np\n",
    "from scipy.stats import norm\n",
    "import random"
   ]
  },
  {
   "cell_type": "code",
   "execution_count": 2,
   "metadata": {},
   "outputs": [
    {
     "name": "stdout",
     "output_type": "stream",
     "text": [
      "          IA s\n",
      "0          0.0\n",
      "1        323.0\n",
      "2        323.0\n",
      "3        975.0\n",
      "4       1886.0\n",
      "5       1781.0\n",
      "6       1705.0\n",
      "7       2018.0\n",
      "8       1926.0\n",
      "9       1747.0\n",
      "10      1589.0\n",
      "11      1778.0\n",
      "12      1885.0\n",
      "13      1701.0\n",
      "14        20.0\n",
      "15      1768.0\n",
      "16      6331.0\n",
      "17      1006.0\n",
      "18     36527.0\n",
      "19        20.0\n",
      "20      1035.0\n",
      "21       157.0\n",
      "22       177.0\n",
      "23      1505.0\n",
      "24      1795.0\n",
      "25      1123.0\n",
      "26       277.0\n",
      "27       507.0\n",
      "28       627.0\n",
      "29      1218.0\n",
      "...        ...\n",
      "35922     41.0\n",
      "35923    614.0\n",
      "35924     81.0\n",
      "35925     64.0\n",
      "35926    356.0\n",
      "35927    687.0\n",
      "35928      4.0\n",
      "35929    587.0\n",
      "35930     41.0\n",
      "35931     59.0\n",
      "35932     65.0\n",
      "35933   1425.0\n",
      "35934    260.0\n",
      "35935   1135.0\n",
      "35936    448.0\n",
      "35937    333.0\n",
      "35938    114.0\n",
      "35939     75.0\n",
      "35940     10.0\n",
      "35941    293.0\n",
      "35942   1180.0\n",
      "35943    439.0\n",
      "35944    257.0\n",
      "35945    712.0\n",
      "35946    484.0\n",
      "35947   1683.0\n",
      "35948     33.0\n",
      "35949   1591.0\n",
      "35950    136.0\n",
      "35951    593.0\n",
      "\n",
      "[35952 rows x 1 columns]\n",
      "       Duración seg.\n",
      "0                122\n",
      "1                 59\n",
      "2                 83\n",
      "3                 41\n",
      "4                 22\n",
      "5                 15\n",
      "6                 19\n",
      "7                 21\n",
      "8                 19\n",
      "9                 15\n",
      "10                24\n",
      "11                26\n",
      "12                28\n",
      "13                20\n",
      "14                60\n",
      "15                24\n",
      "16                24\n",
      "17                23\n",
      "18                20\n",
      "19               129\n",
      "20               165\n",
      "21                12\n",
      "22               110\n",
      "23                17\n",
      "24                13\n",
      "25                77\n",
      "26               365\n",
      "27                14\n",
      "28               193\n",
      "29                12\n",
      "...              ...\n",
      "35922             45\n",
      "35923             45\n",
      "35924             15\n",
      "35925            103\n",
      "35926             15\n",
      "35927            191\n",
      "35928             45\n",
      "35929             14\n",
      "35930            260\n",
      "35931             61\n",
      "35932            141\n",
      "35933             47\n",
      "35934             12\n",
      "35935             40\n",
      "35936            489\n",
      "35937             13\n",
      "35938            256\n",
      "35939             10\n",
      "35940             85\n",
      "35941             29\n",
      "35942             17\n",
      "35943            204\n",
      "35944             55\n",
      "35945             38\n",
      "35946             18\n",
      "35947             17\n",
      "35948             39\n",
      "35949             31\n",
      "35950             15\n",
      "35951            113\n",
      "\n",
      "[35952 rows x 1 columns]\n"
     ]
    }
   ],
   "source": [
    "data = pd.read_excel (r'C:\\Users\\Marina\\Desktop\\tf\\workspace\\sim_python\\TP12\\datos_sim1_tp12.xlsx') \n",
    "#df = pd.DataFrame(data, columns= ['Inicio','Hora','Duración seg.'])\n",
    "duracion = pd.DataFrame(data,columns= ['Duración seg.'])\n",
    "llegadas = pd.DataFrame(data,columns= ['IA s'])\n",
    "print (llegadas)\n",
    "print (duracion)"
   ]
  },
  {
   "cell_type": "code",
   "execution_count": 3,
   "metadata": {},
   "outputs": [
    {
     "name": "stdout",
     "output_type": "stream",
     "text": [
      "128.85730974632844 126.33593278535103\n"
     ]
    }
   ],
   "source": [
    "muTA, stdTA = norm.fit(duracion)\n",
    "print(muTA,stdTA)"
   ]
  },
  {
   "cell_type": "code",
   "execution_count": 4,
   "metadata": {},
   "outputs": [
    {
     "name": "stdout",
     "output_type": "stream",
     "text": [
      "8.817923898531376 5813.74549786586\n"
     ]
    }
   ],
   "source": [
    "muIA, stdIA = norm.fit(llegadas)\n",
    "print(muIA,stdIA)"
   ]
  },
  {
   "cell_type": "markdown",
   "metadata": {},
   "source": [
    "## Generacion de variable aleatoria para el Tiempo de Atencion (TA) "
   ]
  },
  {
   "cell_type": "code",
   "execution_count": 28,
   "metadata": {},
   "outputs": [
    {
     "name": "stdout",
     "output_type": "stream",
     "text": [
      "87\n"
     ]
    }
   ],
   "source": [
    "r = 0\n",
    "\n",
    "# Mientras caiga fuera de esta zona, generame otro\n",
    "while r < 2 or r > 126:\n",
    "\n",
    "    try:\n",
    "        r = int(random.lognormvariate(muTA, stdTA))\n",
    "    except OverflowError:\n",
    "        r = float('inf')\n",
    "        \n",
    "print(r)"
   ]
  },
  {
   "cell_type": "markdown",
   "metadata": {},
   "source": [
    "## Generacion de variable aleatoria para el Intervalo entre Arribos (IA)"
   ]
  },
  {
   "cell_type": "code",
   "execution_count": 29,
   "metadata": {},
   "outputs": [
    {
     "name": "stdout",
     "output_type": "stream",
     "text": [
      "55\n"
     ]
    }
   ],
   "source": [
    "rIA = 0\n",
    "\n",
    "while rIA <= 2 or rIA > 255:\n",
    "\n",
    "    try:\n",
    "        rIA = int(random.lognormvariate(muIA, stdIA))\n",
    "    except OverflowError:\n",
    "        rIA = float('inf')\n",
    "    \n",
    "print(rIA)"
   ]
  },
  {
   "cell_type": "code",
   "execution_count": null,
   "metadata": {},
   "outputs": [],
   "source": []
  }
 ],
 "metadata": {
  "kernelspec": {
   "display_name": "Python 3",
   "language": "python",
   "name": "python3"
  },
  "language_info": {
   "codemirror_mode": {
    "name": "ipython",
    "version": 3
   },
   "file_extension": ".py",
   "mimetype": "text/x-python",
   "name": "python",
   "nbconvert_exporter": "python",
   "pygments_lexer": "ipython3",
   "version": "3.7.3"
  }
 },
 "nbformat": 4,
 "nbformat_minor": 2
}
