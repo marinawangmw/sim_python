{
 "cells": [
  {
   "cell_type": "code",
   "execution_count": 26,
   "metadata": {},
   "outputs": [],
   "source": [
    "import pandas as pd\n",
    "import numpy as np\n",
    "from scipy.stats import norm\n",
    "import random"
   ]
  },
  {
   "cell_type": "code",
   "execution_count": 28,
   "metadata": {},
   "outputs": [
    {
     "name": "stdout",
     "output_type": "stream",
     "text": [
      "        IA seg\n",
      "0       1098.0\n",
      "1        755.0\n",
      "2       2455.0\n",
      "3        103.0\n",
      "4       1331.0\n",
      "5       2055.0\n",
      "6        813.0\n",
      "7        649.0\n",
      "8        909.0\n",
      "9       2221.0\n",
      "10      1985.0\n",
      "11      2881.0\n",
      "12        78.0\n",
      "13       326.0\n",
      "14       534.0\n",
      "15      1692.0\n",
      "16      1492.0\n",
      "17       520.0\n",
      "18      1009.0\n",
      "19       133.0\n",
      "20      4266.0\n",
      "21        20.0\n",
      "22      1639.0\n",
      "23      1865.0\n",
      "24        32.0\n",
      "25        18.0\n",
      "26         6.0\n",
      "27        11.0\n",
      "28         1.0\n",
      "29         7.0\n",
      "...        ...\n",
      "245389     6.0\n",
      "245390     9.0\n",
      "245391    11.0\n",
      "245392    18.0\n",
      "245393     4.0\n",
      "245394     5.0\n",
      "245395     1.0\n",
      "245396     9.0\n",
      "245397     6.0\n",
      "245398     3.0\n",
      "245399    22.0\n",
      "245400     6.0\n",
      "245401    17.0\n",
      "245402     8.0\n",
      "245403     2.0\n",
      "245404     3.0\n",
      "245405     8.0\n",
      "245406     4.0\n",
      "245407    61.0\n",
      "245408     1.0\n",
      "245409     6.0\n",
      "245410     5.0\n",
      "245411     4.0\n",
      "245412     1.0\n",
      "245413     4.0\n",
      "245414     3.0\n",
      "245415     0.0\n",
      "245416    13.0\n",
      "245417     5.0\n",
      "245418     7.0\n",
      "\n",
      "[245419 rows x 1 columns]\n",
      "        Duración seg.\n",
      "0                  24\n",
      "1                  17\n",
      "2                  23\n",
      "3                 112\n",
      "4                  28\n",
      "5                 142\n",
      "6                 148\n",
      "7                  79\n",
      "8                 182\n",
      "9                  17\n",
      "10                 21\n",
      "11                130\n",
      "12                 50\n",
      "13                234\n",
      "14                 20\n",
      "15                 16\n",
      "16                157\n",
      "17                 23\n",
      "18                 95\n",
      "19                337\n",
      "20                 20\n",
      "21                192\n",
      "22                122\n",
      "23                 12\n",
      "24                 11\n",
      "25                184\n",
      "26                 33\n",
      "27                189\n",
      "28                157\n",
      "29                368\n",
      "...               ...\n",
      "245389             20\n",
      "245390            267\n",
      "245391             22\n",
      "245392             85\n",
      "245393             20\n",
      "245394            217\n",
      "245395            236\n",
      "245396             71\n",
      "245397            432\n",
      "245398            207\n",
      "245399            192\n",
      "245400            121\n",
      "245401            440\n",
      "245402            206\n",
      "245403            551\n",
      "245404            352\n",
      "245405            300\n",
      "245406            108\n",
      "245407            627\n",
      "245408             20\n",
      "245409             67\n",
      "245410            109\n",
      "245411            331\n",
      "245412            102\n",
      "245413            205\n",
      "245414            320\n",
      "245415             25\n",
      "245416            112\n",
      "245417             92\n",
      "245418            135\n",
      "\n",
      "[245419 rows x 1 columns]\n"
     ]
    }
   ],
   "source": [
    "data = pd.read_excel (r'D:\\啊哈\\2019\\Simulacion\\TP12\\sim2.xlsx') \n",
    "#df = pd.DataFrame(data, columns= ['Inicio','Hora','Duración seg.'])\n",
    "duracion = pd.DataFrame(data,columns= ['Duración seg.'])\n",
    "llegadas = pd.DataFrame(data,columns= ['IA seg'])\n",
    "print (llegadas)\n",
    "print (duracion)"
   ]
  },
  {
   "cell_type": "code",
   "execution_count": 31,
   "metadata": {},
   "outputs": [
    {
     "name": "stdout",
     "output_type": "stream",
     "text": [
      "245.71223091936648 193.4991408424855\n"
     ]
    }
   ],
   "source": [
    "muTA, stdTA = norm.fit(duracion)\n",
    "print(muTA,stdTA)"
   ]
  },
  {
   "cell_type": "code",
   "execution_count": 32,
   "metadata": {},
   "outputs": [
    {
     "name": "stdout",
     "output_type": "stream",
     "text": [
      "9.585089174024832 42.78525854977988\n"
     ]
    }
   ],
   "source": [
    "muIA, stdIA = norm.fit(llegadas)\n",
    "print(muIA,stdIA)"
   ]
  },
  {
   "cell_type": "code",
   "execution_count": 17,
   "metadata": {},
   "outputs": [
    {
     "name": "stdout",
     "output_type": "stream",
     "text": [
      "215.4838729862743 188.91363090014514\n"
     ]
    }
   ],
   "source": [
    "print(mu,std)"
   ]
  },
  {
   "cell_type": "code",
   "execution_count": 25,
   "metadata": {},
   "outputs": [
    {
     "name": "stdout",
     "output_type": "stream",
     "text": [
      "3.988831084291845e+114\n"
     ]
    }
   ],
   "source": [
    "r = random.lognormvariate(mu, std)\n",
    "print(r)"
   ]
  },
  {
   "cell_type": "code",
   "execution_count": null,
   "metadata": {},
   "outputs": [],
   "source": []
  }
 ],
 "metadata": {
  "kernelspec": {
   "display_name": "Python 3",
   "language": "python",
   "name": "python3"
  },
  "language_info": {
   "codemirror_mode": {
    "name": "ipython",
    "version": 3
   },
   "file_extension": ".py",
   "mimetype": "text/x-python",
   "name": "python",
   "nbconvert_exporter": "python",
   "pygments_lexer": "ipython3",
   "version": "3.7.3"
  }
 },
 "nbformat": 4,
 "nbformat_minor": 2
}
