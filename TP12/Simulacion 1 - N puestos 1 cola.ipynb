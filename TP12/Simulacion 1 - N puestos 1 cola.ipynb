{
 "cells": [
  {
   "cell_type": "markdown",
   "metadata": {},
   "source": [
    "# TP 12 Simulación - Call Center Metrogas\n",
    "\n",
    "## Contexto\n",
    "Se dispone de puestos de emergencia con una cola.\n",
    "Se busca estudiar la cantidad más óptima de la cantidad de puestos que cumpla con el PIC."
   ]
  },
  {
   "cell_type": "markdown",
   "metadata": {},
   "source": [
    "## Importando librerias de simpy"
   ]
  },
  {
   "cell_type": "code",
   "execution_count": 1,
   "metadata": {},
   "outputs": [],
   "source": [
    "#from simpy import initialize\n",
    "#from SimPy.Simulation import *\n",
    "import simpy\n",
    "import random\n",
    "import collections\n",
    "from itertools import combinations_with_replacement\n",
    "import xlwt \n",
    "from xlwt import Workbook \n",
    "import time"
   ]
  },
  {
   "cell_type": "markdown",
   "metadata": {
    "scrolled": true
   },
   "source": [
    "_____"
   ]
  },
  {
   "cell_type": "markdown",
   "metadata": {},
   "source": [
    "## Simulacion de una llegada"
   ]
  },
  {
   "cell_type": "code",
   "execution_count": 2,
   "metadata": {},
   "outputs": [],
   "source": [
    "def llegada(env,puestos,cont):\n",
    "    \n",
    "    while True:\n",
    "        \n",
    "        cont[\"NT\"] += 1\n",
    "            \n",
    "        ce = Customer(name = \"clienteE%02d\"%cont[\"NT\"])\n",
    "            \n",
    "        # Genero IA para el siguiente cliente y genero el timeout para su llegada \n",
    "        ia = generar_IA(cont)\n",
    "        yield env.timeout(ia)\n",
    "        cont['file'].write(\"T=%5.2f %s: COLA EMERGENCIA - llegue con un IA: %5.2f \\n\"%(env.now,ce.name,ia))\n",
    "        colas(puestos,cont) # Imprimo el estao de las colas\n",
    "            \n",
    "        # Genero la llamada\n",
    "        env.process(ce.llamada_emergencia(env,puestos,cont))\n",
    "            "
   ]
  },
  {
   "cell_type": "code",
   "execution_count": 3,
   "metadata": {},
   "outputs": [],
   "source": [
    "class Customer():\n",
    "    \"\"\"Evento llegadas/llamadas de los clientes\"\"\"\n",
    "    \n",
    "    def __init__(self,name):\n",
    "        self.name = name\n",
    "        \n",
    "    def llamada_emergencia(self,env,puestos,cont):\n",
    "        \n",
    "        arrive = env.now\n",
    "        # Pido uso de un puesto\n",
    "        emergencia = puestos.request()\n",
    "        atendido = yield emergencia\n",
    "        wait = env.now-arrive #Tiempo de espera\n",
    "            \n",
    "        if wait <= 40:\n",
    "            cont[\"NEC\"] += 1\n",
    "            \n",
    "        ta = generar_TA(cont)\n",
    "        cont['file'].write(\"T=%5.2f, %s: COLA EMERGENCIA - Me atendieron en un puesto de emergencia despues de esperar %5.2f \\n\"%(env.now,self.name,wait))\n",
    "        colas(puestos,cont)\n",
    "        cont['file'].write(\"Tiempo de Atencion generado para %s: %5.2f \\n\"%(self.name,ta))\n",
    "        yield env.timeout(ta)\n",
    "        cont['file'].write(\"T=%5.2f, %s: Sali de un puesto de emergencia \\n\"%(env.now,self.name))\n",
    "            "
   ]
  },
  {
   "cell_type": "code",
   "execution_count": 4,
   "metadata": {},
   "outputs": [],
   "source": [
    "def colas(p,cont):\n",
    "    cont['file'].write(\"Atendiendo: %1d \\n\"%(p.count))\n",
    "    cont['file'].write(\"En cola: %1d \\n\"%(len(p.queue)))\n"
   ]
  },
  {
   "cell_type": "code",
   "execution_count": 69,
   "metadata": {},
   "outputs": [],
   "source": [
    "def generar_TA(cont):\n",
    "    r = 0\n",
    "\n",
    "    # Mientras caiga fuera de esta zona, generame otro\n",
    "    while r < 2 or r > 126:\n",
    "\n",
    "        try:\n",
    "            r = int(random.lognormvariate(muTA, sigmaTA))\n",
    "        except OverflowError:\n",
    "            r = float('inf')\n",
    "    \n",
    "    return r"
   ]
  },
  {
   "cell_type": "code",
   "execution_count": 70,
   "metadata": {},
   "outputs": [],
   "source": [
    "def generar_IA(cont):\n",
    "    rIA = 0\n",
    "\n",
    "    while rIA <= 2 or rIA > 255:\n",
    "\n",
    "        try:\n",
    "            rIA = int(random.lognormvariate(muIA, sigmaIA))\n",
    "        except OverflowError:\n",
    "            rIA = float('inf')\n",
    "    \n",
    "    return rIA"
   ]
  },
  {
   "cell_type": "markdown",
   "metadata": {},
   "source": [
    "## Inicializacion de la simulacion"
   ]
  },
  {
   "cell_type": "code",
   "execution_count": 14,
   "metadata": {},
   "outputs": [],
   "source": [
    "def simular(cantEmer,ci,maxTime):\n",
    "    env = simpy.Environment()\n",
    "    puestos = simpy.Resource(env,capacity=cantEmer) \n",
    "           \n",
    "    env.process(llegada(env,puestos,ci))\n",
    "    env.run(until=maxTime)\n",
    "    "
   ]
  },
  {
   "cell_type": "markdown",
   "metadata": {},
   "source": [
    "## Condiciones Iniciales"
   ]
  },
  {
   "cell_type": "code",
   "execution_count": 73,
   "metadata": {},
   "outputs": [],
   "source": [
    "# Experimental data\n",
    "NT = 0\n",
    "maxTime = 1000 #segundos\n",
    "NEC = 0 # Cantidad de gente que espero en cola menor a 40 segundos\n",
    "PEC = 0.0 # Porcentaje de espera en cola menor a 40 segundos\n",
    "file = None\n",
    "\n",
    "# TA - distribucion normal\n",
    "muTA = 128.857\n",
    "sigmaTA = 126.335\n",
    "\n",
    "# IA - distribucion normal\n",
    "muIA = 8.817\n",
    "sigmaIA = 5813.745\n",
    "\n",
    "# Contadores\n",
    "ci = {\"muTA\":muTA,\n",
    "     \"sigmaTA\":sigmaTA,\n",
    "     \"muIA\":muIA,\n",
    "     \"sigmaIA\":sigmaIA,\n",
    "     \"emer\":0,\n",
    "     \"NEC\":NEC,\n",
    "     \"NT\":NT,\n",
    "     \"file\":file}"
   ]
  },
  {
   "cell_type": "markdown",
   "metadata": {},
   "source": [
    "## Ingreso manual de Puestos de atencion - variables de control\n",
    "\n",
    "!! Generar una version para automatizar esto, que genere diferentes combinaciones dado un rango\n",
    "\n",
    "Y tmbn dejar la opcion de generarlo manualmente"
   ]
  },
  {
   "cell_type": "markdown",
   "metadata": {
    "scrolled": true
   },
   "source": [
    "\n",
    "print('Ingrese cantidad de puestos comerciales')\n",
    "cantCom = int(input())\n",
    "ci[\"com\"] = cantCom\n",
    "print('Ingrese cantidad de puestos de emergencia')\n",
    "cantEmer = int(input())\n",
    "ci[\"emer\"] = cantEmer\n",
    "print('Ingrese cantidad de puestos polifuncionales')\n",
    "cantPolif = int(input())\n",
    "ci[\"pol\"] = cantPolif\n",
    "\n",
    "simular(cantCom,cantEmer,cantPolif,ci,maxTime)\n"
   ]
  },
  {
   "cell_type": "markdown",
   "metadata": {},
   "source": [
    "## Ejecucion automatica con combinaciones de variables de control"
   ]
  },
  {
   "cell_type": "code",
   "execution_count": 75,
   "metadata": {
    "scrolled": true
   },
   "outputs": [
    {
     "name": "stdout",
     "output_type": "stream",
     "text": [
      "OK\n"
     ]
    }
   ],
   "source": [
    "# Create an Excel to record the results \n",
    "wb = Workbook() \n",
    "t = time.localtime()\n",
    "current_time = time.strftime(\"%Hh%Mm\", t)\n",
    "sheet = wb.add_sheet(str(current_time)) \n",
    "sheet.write(0, 0, 'Emergencia')\n",
    "sheet.write(0, 1, 'NT')\n",
    "sheet.write(0, 2, 'NEC')\n",
    "sheet.write(0, 3, 'PEC')\n",
    "simulacion = 0\n",
    "\n",
    "# Create a text file to record processing log\n",
    "file = open(\"log_sim1.txt\",\"w\")\n",
    "ci['file'] = file\n",
    "\n",
    "cant_puestos = [5,10,15,20,25,30,35,40,45,50]\n",
    "\n",
    "for i in cant_puestos:\n",
    "    \n",
    "    simular(i,ci,maxTime)\n",
    "    simulacion += 1\n",
    "        \n",
    "    sheet.write(simulacion, 0, i)\n",
    "    sheet.write(simulacion, 1, ci[\"NT\"]) # Cantidad de gente total\n",
    "    sheet.write(simulacion, 2, ci[\"NEC\"])\n",
    "    PEC = (ci[\"NEC\"] / ci[\"NT\"]) * 100\n",
    "    sheet.write(simulacion, 3, PEC) # Cantidad de gente que haya esperado menor a 40 segundos\n",
    "    file.write(\"================================================================================ \\n\") \n",
    "    file.write(\"\\n\")\n",
    "        \n",
    "wb.save('resultados_Simulacion1.xls')\n",
    "file.close()\n",
    "print('OK')        "
   ]
  },
  {
   "cell_type": "code",
   "execution_count": null,
   "metadata": {},
   "outputs": [],
   "source": []
  }
 ],
 "metadata": {
  "kernelspec": {
   "display_name": "Python 3",
   "language": "python",
   "name": "python3"
  },
  "language_info": {
   "codemirror_mode": {
    "name": "ipython",
    "version": 3
   },
   "file_extension": ".py",
   "mimetype": "text/x-python",
   "name": "python",
   "nbconvert_exporter": "python",
   "pygments_lexer": "ipython3",
   "version": "3.7.3"
  }
 },
 "nbformat": 4,
 "nbformat_minor": 2
}
