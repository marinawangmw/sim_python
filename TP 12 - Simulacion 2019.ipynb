{
 "cells": [
  {
   "cell_type": "markdown",
   "metadata": {},
   "source": [
    "# TP 12 Simulación - Call Center Metrogas\n",
    "\n",
    "## Contexto\n",
    "Se dispone de 3 tipos de puestos, y diferentes cantidades de cada uno de ellos:\n",
    "\n",
    "- Emergencia (E)\n",
    "- Comercial (C)\n",
    "- Polifuncional (P)\n",
    "\n",
    "Y dos colas:\n",
    "\n",
    "- Cola para emergencia (NSE)\n",
    "- Cola para comercial (NSC)\n",
    "\n",
    "Los puestos comerciales y los puestos de emergencia solo atienden su propia cola. Los puestos polifuncionales atienden solo cuando todos los puestos comerciales y/o todos los puestos de emergencia estan ocupados y hay gente esperando en la cola para ser atendido,sera atendido por un polifuncional, dandole mas prioridad a los que estan en la cola de emergencia "
   ]
  },
  {
   "cell_type": "markdown",
   "metadata": {},
   "source": [
    "## Importando librerias de simpy"
   ]
  },
  {
   "cell_type": "code",
   "execution_count": 11,
   "metadata": {},
   "outputs": [],
   "source": [
    "#from simpy import initialize\n",
    "#from SimPy.Simulation import *\n",
    "import simpy\n",
    "import random\n",
    "import collections\n",
    "from itertools import combinations_with_replacement"
   ]
  },
  {
   "cell_type": "markdown",
   "metadata": {
    "scrolled": true
   },
   "source": [
    "_____"
   ]
  },
  {
   "cell_type": "markdown",
   "metadata": {},
   "source": [
    "## Simulacion de una llegada"
   ]
  },
  {
   "cell_type": "code",
   "execution_count": 2,
   "metadata": {},
   "outputs": [],
   "source": [
    "def distribucion_llegada(env,puestos,cont,n):\n",
    "    while True:\n",
    "    #for i in range(n):\n",
    "    \n",
    "        cont[\"NT\"] += 1\n",
    "        \n",
    "        # Genero un cliente random \n",
    "        r = random.random()\n",
    "        #print(\"Distribucion de generacion de tipo de cliente: %5.2f\"%r)\n",
    "        \n",
    "        # Si genere un cliente para emergencia\n",
    "        if r <= cont[\"PE\"]:\n",
    "            \n",
    "            ce = Customer(name = \"clienteE%02d\"%cont[\"NT\"])\n",
    "            \n",
    "            # Genero IA para el siguiente cliente y genero el timeout para su llegada \n",
    "            ia = generar_IA(cont)\n",
    "            yield env.timeout(ia)\n",
    "            #print(\"T=%5.2f %s: COLA EMERGENCIA - llegue con un IA: %5.2f\"%(env.now,ce.name,ia))\n",
    "            colas(puestos) # Imprimo el estao de las colas\n",
    "            \n",
    "            # Genero la llamada\n",
    "            env.process(ce.llamada_emergencia(env,puestos,cont))\n",
    "            \n",
    "        # Si genere un cliente para comercial    \n",
    "        else: \n",
    "            \n",
    "            cc = Customer(name = \"clienteC%02d\"%cont[\"NT\"])\n",
    "            # Genero IA para el siguiente cliente y genero el timeout para su llegada \n",
    "            ia = generar_IA(cont)\n",
    "            yield env.timeout(ia)\n",
    "            #print(\"T=%5.2f %s: COLA COMERCIAL - llegue con un IA: %5.2f\"%(env.now,cc.name,ia))\n",
    "            colas(puestos) # Imprimo el estao de las colas\n",
    "            \n",
    "            # Genero la llamada\n",
    "            env.process(cc.llamada_comercial(env,puestos,cont))"
   ]
  },
  {
   "cell_type": "code",
   "execution_count": 3,
   "metadata": {},
   "outputs": [],
   "source": [
    "class Customer():\n",
    "    \"\"\"Evento llegadas/llamadas de los clientes\"\"\"\n",
    "    \n",
    "    def __init__(self,name):\n",
    "        self.name = name\n",
    "        \n",
    "    def llamada_emergencia(self,env,puestos,cont):\n",
    "        \n",
    "        arrive = env.now\n",
    "        # Pido uso de los dos puestos, y me dan el primero que se libere\n",
    "        # puestos = [comercial, emergencia, polifuncional]\n",
    "        emergencia, polifuncional = puestos[1].request(priority=0), puestos[2].request(priority=0)\n",
    "        atendido = yield emergencia | polifuncional \n",
    "        #assert atendido == {emergencia}\n",
    "        \n",
    "        # Me atendieron por puestos polifuncionales?\n",
    "        if polifuncional in atendido:\n",
    "            cont[\"multitasking\"]+=1\n",
    "            wait = env.now-arrive #Tiempo de espera\n",
    "            \n",
    "            if wait <= 40:\n",
    "                cont[\"NEC\"] += 1\n",
    "                \n",
    "            ta = generar_TA(cont)\n",
    "            #print(\"T=%5.2f, %s: COLA EMERGENCIA - Me atendieron en un puesto polifuncional despues de esperar %5.2f\"%(env.now,self.name,wait))\n",
    "            colas(puestos)\n",
    "            #print(\"Tiempo de Atencion generado para %s: %5.2f\"%(self.name,ta))\n",
    "            yield env.timeout(ta)\n",
    "            #print(\"T=%5.2f, %s: Sali de un puesto de polifuncional\"%(env.now,self.name))\n",
    "        \n",
    "        # Me atendieron por un puesto de emergencia\n",
    "        else:\n",
    "            wait = env.now-arrive #Tiempo de espera\n",
    "            \n",
    "            if wait <= 40:\n",
    "                cont[\"NEC\"] += 1\n",
    "            \n",
    "            ta = generar_TA(cont)\n",
    "            #print(\"T=%5.2f, %s: COLA EMERGENCIA - Me atendieron en un puesto de emergencia despues de esperar %5.2f\"%(env.now,self.name,wait))\n",
    "            colas(puestos)\n",
    "            #print(\"Tiempo de Atencion generado para %s: %5.2f\"%(self.name,ta))\n",
    "            yield env.timeout(ta)\n",
    "            #print(\"T=%5.2f, %s: Sali de un puesto de emergencia\"%(env.now,self.name))\n",
    "            \n",
    "            \n",
    "    def llamada_comercial(self,env,puestos,cont):\n",
    "        \n",
    "        arrive = env.now\n",
    "        # Pido uso de los dos puestos, y me dan el primero que se libere\n",
    "        # puestos = [comercial, emergencia, polifuncional]\n",
    "        comercial, polifuncional = puestos[0].request(priority=0), puestos[2].request(priority=1) # comercial tn menos prioridad q emergencia\n",
    "        atendido = yield comercial | polifuncional \n",
    "        \n",
    "        # Me atendieron por puestos polifuncionales?\n",
    "        if polifuncional in atendido:\n",
    "            cont[\"multitasking\"]+=1\n",
    "            wait = env.now-arrive #Tiempo de espera\n",
    "            \n",
    "            if wait <= 40:\n",
    "                cont[\"NEC\"] += 1\n",
    "                \n",
    "            ta = generar_TA(cont)\n",
    "            #print(\"T=%5.2f, %s: COLA COMERCIAL - Me atendieron en un puesto polifuncional despues de esperar %5.2f\"%(env.now,self.name,wait))\n",
    "            colas(puestos)\n",
    "            #print(\"Tiempo de Atencion generado para %s: %5.2f\"%(self.name,ta))\n",
    "            yield env.timeout(ta)\n",
    "            #print(\"T=%5.2f, %s: Sali de un puesto de polifuncional\"%(env.now,self.name))\n",
    "        \n",
    "        # Me atendieron por un puesto comercial\n",
    "        else:\n",
    "            wait = env.now-arrive #Tiempo de espera\n",
    "            \n",
    "            if wait <= 40:\n",
    "                cont[\"NEC\"] += 1\n",
    "            \n",
    "            ta = generar_TA(cont)\n",
    "            #print(\"T=%5.2f, %s: COLA COMERCIAL - Me atendieron en un puesto comercial despues de esperar %5.2f\"%(env.now,self.name,wait))\n",
    "            colas(puestos)\n",
    "            #print(\"Tiempo de Atencion generado para %s: %5.2f\"%(self.name,ta))\n",
    "            yield env.timeout(ta)\n",
    "            #print(\"T=%5.2f, %s: Sali de un puesto de comercial\"%(env.now,self.name))"
   ]
  },
  {
   "cell_type": "code",
   "execution_count": 4,
   "metadata": {},
   "outputs": [],
   "source": [
    "def colas(p):\n",
    "    #print (\"Atendiendo:[c:%1d, e:%1d, p:%1d]\"%(p[0].count,p[1].count,p[2].count))\n",
    "    #print (\"En cola:[c:%1d, e:%1d]\"%(len(p[0].queue),len(p[1].queue)))\n"
   ]
  },
  {
   "cell_type": "code",
   "execution_count": 5,
   "metadata": {},
   "outputs": [],
   "source": [
    "def generar_TA(cont):\n",
    "    r = 0\n",
    "\n",
    "    # Mientras caiga fuera de esta zona, generame otro\n",
    "    while r < 52.2 or r > 439.2:\n",
    "\n",
    "        try:\n",
    "            r = int(random.lognormvariate(cont[\"muTA\"],cont[\"sigmaTA\"]))\n",
    "        except OverflowError:\n",
    "            r = float('inf')\n",
    "    \n",
    "    return r"
   ]
  },
  {
   "cell_type": "code",
   "execution_count": 6,
   "metadata": {},
   "outputs": [],
   "source": [
    "def generar_IA(cont):\n",
    "    r = 0\n",
    "\n",
    "    while r <= 0 or r > 52.36:\n",
    "\n",
    "        try:\n",
    "            r = int(random.lognormvariate(cont[\"muIA\"],cont[\"sigmaIA\"]))\n",
    "        except OverflowError:\n",
    "            r = float('inf')\n",
    "    \n",
    "    return r"
   ]
  },
  {
   "cell_type": "markdown",
   "metadata": {},
   "source": [
    "## Inicializacion de la simulacion"
   ]
  },
  {
   "cell_type": "code",
   "execution_count": 10,
   "metadata": {},
   "outputs": [],
   "source": [
    "def simular(cantCom,cantEmer,cantPolif,ci,maxClient,maxTime):\n",
    "    env = simpy.Environment()\n",
    "    puestos = [simpy.PriorityResource(env,capacity=cantCom),\n",
    "           simpy.PriorityResource(env,capacity=cantEmer),\n",
    "           simpy.PriorityResource(env,capacity=cantPolif)] # menor el numero priority, mayor es la prioridad\n",
    "           \n",
    "    env.process(distribucion_llegada(env,puestos,ci,n=maxClient))\n",
    "    env.run(until=maxTime)\n",
    "    \n",
    "    #print(\"===========================================================================\")\n",
    "    #print(\"RESULTADOS:\")\n",
    "    #print(\"Clientes totales: %1d\"%ci[\"NT\"])\n",
    "    #print(\"Tiempo de espera en cola total: %1d\"%ci[\"NEC\"]) # Sacar esto despues\n",
    "    PEC = (ci[\"NEC\"] / ci[\"NT\"]) * 100\n",
    "    # Porcentaje de espera menor a 40 segundos\n",
    "    #print(\"Porcentaje de espera en cola menor a 40 segundos: %5.2f\"%PEC)\n",
    "    # Objetio: Mayor o igual al 90%\n",
    "\n",
    "    #print('Cantidad de puestos comerciales',cantCom)\n",
    "    #print('Cantidad de puestos de emergencia',cantEmer)\n",
    "    #print('Cantidad de puestos polifuncionales',cantPolif)\n",
    "    #print(\"Cantidad de gente atendido por polifuncional\",ci[\"multitasking\"])"
   ]
  },
  {
   "cell_type": "markdown",
   "metadata": {},
   "source": [
    "## Condiciones Iniciales"
   ]
  },
  {
   "cell_type": "code",
   "execution_count": 8,
   "metadata": {},
   "outputs": [],
   "source": [
    "# Experimental data\n",
    "NT = 0\n",
    "maxTime = 14400 #segundos\n",
    "maxClient = 10000\n",
    "#random.seed(RANDOM_SEED)\n",
    "PE = 0.0619 #Porcentaje Emergencia\n",
    "PC = 0.9381 #Porcentaje Comercial\n",
    "NEC = 0 #Cantidad de gente que espero en cola menor a 40 segundos\n",
    "PEC = 0.0 #Porcentaje de espera en cola menor a 40 segundos\n",
    "\n",
    "# TA - distribucion normal\n",
    "muTA = 245.712\n",
    "sigmaTA = 193.499\n",
    "\n",
    "# IA - distribucion normal\n",
    "muIA = 9.585 \n",
    "sigmaIA = 42.785\n",
    "\n",
    "# Contadores\n",
    "ci = {\"multitasking\":0,\n",
    "     \"muTA\":muTA,\n",
    "     \"sigmaTA\":sigmaTA,\n",
    "     \"muIA\":muIA,\n",
    "     \"sigmaIA\":sigmaIA,\n",
    "     \"PE\":PE,\n",
    "     \"PC\":PC,\n",
    "     \"emer\":0,\n",
    "     \"com\":0,\n",
    "     \"pol\":0,\n",
    "     \"NEC\":NEC,\n",
    "     \"NT\":NT}"
   ]
  },
  {
   "cell_type": "markdown",
   "metadata": {},
   "source": [
    "## Ingreso manual de Puestos de atencion - variables de control\n",
    "\n",
    "!! Generar una version para automatizar esto, que genere diferentes combinaciones dado un rango\n",
    "\n",
    "Y tmbn dejar la opcion de generarlo manualmente"
   ]
  },
  {
   "cell_type": "code",
   "execution_count": 19,
   "metadata": {
    "scrolled": true
   },
   "outputs": [
    {
     "name": "stdout",
     "output_type": "stream",
     "text": [
      "Ingrese cantidad de puestos comerciales\n",
      "60\n",
      "Ingrese cantidad de puestos de emergencia\n",
      "50\n",
      "Ingrese cantidad de puestos polifuncionales\n",
      "80\n"
     ]
    }
   ],
   "source": [
    "\n",
    "print('Ingrese cantidad de puestos comerciales')\n",
    "cantCom = int(input())\n",
    "ci[\"com\"] = cantCom\n",
    "print('Ingrese cantidad de puestos de emergencia')\n",
    "cantEmer = int(input())\n",
    "ci[\"emer\"] = cantEmer\n",
    "print('Ingrese cantidad de puestos polifuncionales')\n",
    "cantPolif = int(input())\n",
    "ci[\"pol\"] = cantPolif\n"
   ]
  },
  {
   "cell_type": "markdown",
   "metadata": {},
   "source": [
    "## Ejecucion automatica con combinaciones de variables de control"
   ]
  },
  {
   "cell_type": "code",
   "execution_count": 23,
   "metadata": {},
   "outputs": [
    {
     "ename": "IndexError",
     "evalue": "tuple index out of range",
     "output_type": "error",
     "traceback": [
      "\u001b[1;31m---------------------------------------------------------------------------\u001b[0m",
      "\u001b[1;31mIndexError\u001b[0m                                Traceback (most recent call last)",
      "\u001b[1;32m<ipython-input-23-2fdd50b67cdc>\u001b[0m in \u001b[0;36m<module>\u001b[1;34m\u001b[0m\n\u001b[0;32m      4\u001b[0m     \u001b[0mcant_puestos\u001b[0m \u001b[1;33m=\u001b[0m \u001b[0mlist\u001b[0m\u001b[1;33m(\u001b[0m\u001b[0mcombinations_with_replacement\u001b[0m\u001b[1;33m(\u001b[0m\u001b[0mn\u001b[0m\u001b[1;33m,\u001b[0m\u001b[0mk\u001b[0m\u001b[1;33m)\u001b[0m\u001b[1;33m)\u001b[0m\u001b[1;33m\u001b[0m\u001b[1;33m\u001b[0m\u001b[0m\n\u001b[0;32m      5\u001b[0m \u001b[1;33m\u001b[0m\u001b[0m\n\u001b[1;32m----> 6\u001b[1;33m     \u001b[0mprint\u001b[0m\u001b[1;33m(\u001b[0m\u001b[0mcant_puestos\u001b[0m\u001b[1;33m[\u001b[0m\u001b[1;36m0\u001b[0m\u001b[1;33m]\u001b[0m\u001b[1;33m[\u001b[0m\u001b[1;36m3\u001b[0m\u001b[1;33m]\u001b[0m\u001b[1;33m)\u001b[0m\u001b[1;33m\u001b[0m\u001b[1;33m\u001b[0m\u001b[0m\n\u001b[0m\u001b[0;32m      7\u001b[0m     \u001b[1;31m#cant_puestos[0]\u001b[0m\u001b[1;33m\u001b[0m\u001b[1;33m\u001b[0m\u001b[1;33m\u001b[0m\u001b[0m\n\u001b[0;32m      8\u001b[0m     \u001b[1;31m#cant_puestos[1]\u001b[0m\u001b[1;33m\u001b[0m\u001b[1;33m\u001b[0m\u001b[1;33m\u001b[0m\u001b[0m\n",
      "\u001b[1;31mIndexError\u001b[0m: tuple index out of range"
     ]
    }
   ],
   "source": [
    "\n",
    "for i in range(20,110,10):\n",
    "    \n",
    "    n, k = [i-10,i], 3\n",
    "    cant_puestos = list(combinations_with_replacement(n,k))\n",
    "    \n",
    "    for ii in range(4):\n",
    "        cantCom = cant_puestos[ii][0]\n",
    "        cantEmer = cant_puestos[ii][1]\n",
    "        cantPolif = cant_puestos[ii][2]\n",
    "        iniciar_sim(cantCom,cantEmer,cantPolif,ci,maxClient,maxTime)\n",
    "        "
   ]
  },
  {
   "cell_type": "code",
   "execution_count": null,
   "metadata": {},
   "outputs": [],
   "source": []
  }
 ],
 "metadata": {
  "kernelspec": {
   "display_name": "Python 3",
   "language": "python",
   "name": "python3"
  },
  "language_info": {
   "codemirror_mode": {
    "name": "ipython",
    "version": 3
   },
   "file_extension": ".py",
   "mimetype": "text/x-python",
   "name": "python",
   "nbconvert_exporter": "python",
   "pygments_lexer": "ipython3",
   "version": "3.7.3"
  }
 },
 "nbformat": 4,
 "nbformat_minor": 2
}
